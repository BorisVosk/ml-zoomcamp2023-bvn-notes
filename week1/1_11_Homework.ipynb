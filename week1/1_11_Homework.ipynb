{
 "cells": [
  {
   "cell_type": "code",
   "execution_count": 1,
   "id": "47eebbc0-0637-4925-90bc-fc2176e6a8ff",
   "metadata": {
    "tags": []
   },
   "outputs": [],
   "source": [
    "import numpy as np\n",
    "import pandas as pd"
   ]
  },
  {
   "cell_type": "markdown",
   "id": "a15e596b-7a09-4e08-813b-7032c8bd53e0",
   "metadata": {},
   "source": [
    "### Question 1"
   ]
  },
  {
   "cell_type": "code",
   "execution_count": 2,
   "id": "53cc56bb-6d21-4739-af9b-5d8d341b0dc5",
   "metadata": {
    "tags": []
   },
   "outputs": [
    {
     "data": {
      "text/plain": [
       "'2.0.3'"
      ]
     },
     "execution_count": 2,
     "metadata": {},
     "output_type": "execute_result"
    }
   ],
   "source": [
    "pd.__version__"
   ]
  },
  {
   "cell_type": "markdown",
   "id": "20862087-7982-467f-bf3d-364370b49bf5",
   "metadata": {
    "tags": []
   },
   "source": [
    "This can be done by `pd.read_csv` in fact!"
   ]
  },
  {
   "cell_type": "code",
   "execution_count": 3,
   "id": "37af7dcb-99c0-4e0d-a4c8-e44430a6e646",
   "metadata": {
    "tags": []
   },
   "outputs": [],
   "source": [
    "df_ = pd.read_csv('https://raw.githubusercontent.com/alexeygrigorev/datasets/master/housing.csv')"
   ]
  },
  {
   "cell_type": "markdown",
   "id": "45bd357e-db9c-486a-813a-da5820c3602c",
   "metadata": {
    "tags": []
   },
   "source": [
    "### Question 2"
   ]
  },
  {
   "cell_type": "code",
   "execution_count": 5,
   "id": "7d692618-309c-453b-afc3-3f46ac593b22",
   "metadata": {
    "tags": []
   },
   "outputs": [
    {
     "data": {
      "text/plain": [
       "(20640, 10)"
      ]
     },
     "execution_count": 5,
     "metadata": {},
     "output_type": "execute_result"
    }
   ],
   "source": [
    "df_.shape"
   ]
  },
  {
   "cell_type": "markdown",
   "id": "2249931b-3a4c-43c0-9f13-b392ff3ea0d1",
   "metadata": {},
   "source": [
    "10 Columns"
   ]
  },
  {
   "cell_type": "markdown",
   "id": "67cee2f6-98f3-4754-8ac9-04d6a51cf5a4",
   "metadata": {},
   "source": [
    "### Question 3 "
   ]
  },
  {
   "cell_type": "code",
   "execution_count": 6,
   "id": "41b8fa30-3850-4f38-bfe1-a2fd89a31ba6",
   "metadata": {
    "tags": []
   },
   "outputs": [
    {
     "data": {
      "text/plain": [
       "longitude               0\n",
       "latitude                0\n",
       "housing_median_age      0\n",
       "total_rooms             0\n",
       "total_bedrooms        207\n",
       "population              0\n",
       "households              0\n",
       "median_income           0\n",
       "median_house_value      0\n",
       "ocean_proximity         0\n",
       "dtype: int64"
      ]
     },
     "execution_count": 6,
     "metadata": {},
     "output_type": "execute_result"
    }
   ],
   "source": [
    "df_.isna().sum()"
   ]
  },
  {
   "cell_type": "markdown",
   "id": "f8a43d8a-ebb3-404e-b520-daba3ddbc26d",
   "metadata": {},
   "source": [
    "Total bedrooms has missing values"
   ]
  },
  {
   "cell_type": "markdown",
   "id": "851cd184-d652-43f7-8a13-baaba106ce6d",
   "metadata": {
    "tags": []
   },
   "source": [
    "### Question 4"
   ]
  },
  {
   "cell_type": "code",
   "execution_count": 8,
   "id": "b15346eb-f473-4dd1-ae38-78c0b450c005",
   "metadata": {
    "tags": []
   },
   "outputs": [
    {
     "data": {
      "text/plain": [
       "5"
      ]
     },
     "execution_count": 8,
     "metadata": {},
     "output_type": "execute_result"
    }
   ],
   "source": [
    "df_.ocean_proximity.nunique()"
   ]
  },
  {
   "cell_type": "markdown",
   "id": "b5a58953-cca4-48e8-a6de-7c1fcd10228b",
   "metadata": {},
   "source": [
    "Five unique columns"
   ]
  },
  {
   "cell_type": "markdown",
   "id": "3dd84572-7db2-41c8-88aa-ddbedb433454",
   "metadata": {},
   "source": [
    "### Question 6"
   ]
  },
  {
   "cell_type": "code",
   "execution_count": 9,
   "id": "f4fa88db-d324-41ed-8ce8-f2f6a406e6fb",
   "metadata": {
    "tags": []
   },
   "outputs": [
    {
     "data": {
      "text/plain": [
       "array(['NEAR BAY', '<1H OCEAN', 'INLAND', 'NEAR OCEAN', 'ISLAND'],\n",
       "      dtype=object)"
      ]
     },
     "execution_count": 9,
     "metadata": {},
     "output_type": "execute_result"
    }
   ],
   "source": [
    "df_.ocean_proximity.unique()"
   ]
  },
  {
   "cell_type": "code",
   "execution_count": 11,
   "id": "75f21b6c-7a55-413d-b1fa-82e35f11ba23",
   "metadata": {
    "tags": []
   },
   "outputs": [
    {
     "data": {
      "text/plain": [
       "259212.31179039303"
      ]
     },
     "execution_count": 11,
     "metadata": {},
     "output_type": "execute_result"
    }
   ],
   "source": [
    "(df_\n",
    " .query(\"ocean_proximity=='NEAR BAY'\")\n",
    " .median_house_value.mean()\n",
    ")"
   ]
  },
  {
   "cell_type": "markdown",
   "id": "7ef9f6ae-98b3-4044-aae1-837ecfe09bee",
   "metadata": {},
   "source": [
    "259212 is the correct answer"
   ]
  },
  {
   "cell_type": "code",
   "execution_count": 16,
   "id": "4812e61c-7248-4da6-bdc6-b84c33e2aa01",
   "metadata": {
    "tags": []
   },
   "outputs": [
    {
     "data": {
      "text/plain": [
       "537.8705525375618"
      ]
     },
     "execution_count": 16,
     "metadata": {},
     "output_type": "execute_result"
    }
   ],
   "source": [
    "bedrooms_mean = (df_\n",
    " .total_bedrooms.mean()\n",
    ")\n",
    "bedrooms_mean"
   ]
  },
  {
   "cell_type": "code",
   "execution_count": 15,
   "id": "613578fa-ab29-456d-b1f6-a8118e1b9300",
   "metadata": {
    "tags": []
   },
   "outputs": [
    {
     "data": {
      "text/plain": [
       "537.8705525375617"
      ]
     },
     "execution_count": 15,
     "metadata": {},
     "output_type": "execute_result"
    }
   ],
   "source": [
    "(df_\n",
    " .assign(total_bedrooms = lambda df_: df_.total_bedrooms.fillna(bedrooms_mean))\n",
    " .total_bedrooms.mean()\n",
    ")"
   ]
  },
  {
   "cell_type": "markdown",
   "id": "979d7def-9616-4ad5-a536-18b52afb24a1",
   "metadata": {},
   "source": [
    "No, the value hasn't changed"
   ]
  },
  {
   "cell_type": "markdown",
   "id": "3bf8e246-33ac-439d-ad7a-f07d68d388bf",
   "metadata": {},
   "source": [
    "### Question 7 "
   ]
  },
  {
   "cell_type": "code",
   "execution_count": 23,
   "id": "b3b7428d-470b-4da4-9e9f-abba7d8b9f55",
   "metadata": {
    "tags": []
   },
   "outputs": [
    {
     "data": {
      "text/plain": [
       "array([[  27., 1675.,  521.],\n",
       "       [  52., 2359.,  591.],\n",
       "       [  52., 2127.,  512.],\n",
       "       [  52.,  996.,  264.],\n",
       "       [  29.,  716.,  214.]])"
      ]
     },
     "execution_count": 23,
     "metadata": {},
     "output_type": "execute_result"
    }
   ],
   "source": [
    "X = (df_\n",
    " .query(\"ocean_proximity=='ISLAND'\")\n",
    " .loc[:, ['housing_median_age', 'total_rooms', 'total_bedrooms']]\n",
    " .to_numpy()\n",
    ")\n",
    "X"
   ]
  },
  {
   "cell_type": "markdown",
   "id": "697a45dc-8d67-45b6-bf0e-0e6f378cbf0a",
   "metadata": {},
   "source": [
    "Matrix-Matrix multiplication between the X.T and X"
   ]
  },
  {
   "cell_type": "code",
   "execution_count": 28,
   "id": "eecf4fb5-9eb4-4f1d-9971-66b2b320ecc2",
   "metadata": {
    "tags": []
   },
   "outputs": [
    {
     "data": {
      "text/plain": [
       "array([[9.6820000e+03, 3.5105300e+05, 9.1357000e+04],\n",
       "       [3.5105300e+05, 1.4399307e+07, 3.7720360e+06],\n",
       "       [9.1357000e+04, 3.7720360e+06, 9.9835800e+05]])"
      ]
     },
     "execution_count": 28,
     "metadata": {},
     "output_type": "execute_result"
    }
   ],
   "source": [
    "XTX = X.T.dot(X)\n",
    "XTX"
   ]
  },
  {
   "cell_type": "markdown",
   "id": "8645257e-9267-4f43-810b-89a0d6018c1f",
   "metadata": {},
   "source": [
    "Inverse of XTX:"
   ]
  },
  {
   "cell_type": "code",
   "execution_count": 29,
   "id": "03ccf968-3ae5-4bab-b3a8-4e89e3da1129",
   "metadata": {
    "tags": []
   },
   "outputs": [
    {
     "data": {
      "text/plain": [
       "array([[ 9.19403586e-04, -3.66412216e-05,  5.43072261e-05],\n",
       "       [-3.66412216e-05,  8.23303633e-06, -2.77534485e-05],\n",
       "       [ 5.43072261e-05, -2.77534485e-05,  1.00891325e-04]])"
      ]
     },
     "execution_count": 29,
     "metadata": {},
     "output_type": "execute_result"
    }
   ],
   "source": [
    "inv_XTX = np.linalg.inv(XTX)\n",
    "inv_XTX"
   ]
  },
  {
   "cell_type": "markdown",
   "id": "b525b82e-227b-44f3-9688-7f8248ae2451",
   "metadata": {},
   "source": [
    "Multiply the inverse of $XTX$ with the transpose of $X$, and then multiply the result by $y$. Call the result $w$."
   ]
  },
  {
   "cell_type": "code",
   "execution_count": 33,
   "id": "0109a6f3-4b32-4785-9e12-c215219456a3",
   "metadata": {
    "tags": []
   },
   "outputs": [],
   "source": [
    "y = np.array([950, 1300, 800, 1000, 1300])"
   ]
  },
  {
   "cell_type": "code",
   "execution_count": 34,
   "id": "b14cd9de-910a-4a6a-8a72-f2b8514e9b28",
   "metadata": {
    "tags": []
   },
   "outputs": [],
   "source": [
    "w = (inv_XTX\n",
    "     .dot(X.T)\n",
    "     .dot(y)\n",
    "    )"
   ]
  },
  {
   "cell_type": "code",
   "execution_count": 35,
   "id": "7fff5ed9-26df-4016-a1d4-f332e6971456",
   "metadata": {
    "tags": []
   },
   "outputs": [
    {
     "data": {
      "text/plain": [
       "array([23.12330961, -1.48124183,  5.69922946])"
      ]
     },
     "execution_count": 35,
     "metadata": {},
     "output_type": "execute_result"
    }
   ],
   "source": [
    "w"
   ]
  },
  {
   "cell_type": "markdown",
   "id": "afc4c84c-3a16-496b-bb8e-e879c709f496",
   "metadata": {},
   "source": [
    "Last values is 5.6992"
   ]
  }
 ],
 "metadata": {
  "kernelspec": {
   "display_name": "Python 3 (ipykernel)",
   "language": "python",
   "name": "python3"
  },
  "language_info": {
   "codemirror_mode": {
    "name": "ipython",
    "version": 3
   },
   "file_extension": ".py",
   "mimetype": "text/x-python",
   "name": "python",
   "nbconvert_exporter": "python",
   "pygments_lexer": "ipython3",
   "version": "3.9.18"
  }
 },
 "nbformat": 4,
 "nbformat_minor": 5
}
