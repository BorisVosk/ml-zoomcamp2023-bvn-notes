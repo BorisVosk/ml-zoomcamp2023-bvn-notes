{
 "cells": [
  {
   "cell_type": "code",
   "execution_count": 1,
   "id": "9edc8fa2-7bfb-4d08-b1c2-0014af731b74",
   "metadata": {
    "tags": []
   },
   "outputs": [],
   "source": [
    "import numpy as np"
   ]
  },
  {
   "cell_type": "code",
   "execution_count": 3,
   "id": "793023fd-01c7-4136-859b-4261306523d1",
   "metadata": {
    "tags": []
   },
   "outputs": [
    {
     "data": {
      "text/plain": [
       "array([ 5, 11, 13, 12])"
      ]
     },
     "execution_count": 3,
     "metadata": {},
     "output_type": "execute_result"
    }
   ],
   "source": [
    "u = np.array([2, 7, 5, 6])\n",
    "v = np.array([3, 4, 8, 6])\n",
    "\n",
    "# addition \n",
    "u + v"
   ]
  },
  {
   "cell_type": "code",
   "execution_count": 4,
   "id": "f590454a-b17c-4a7d-9a74-57654e772b7e",
   "metadata": {
    "tags": []
   },
   "outputs": [
    {
     "data": {
      "text/plain": [
       "array([-1,  3, -3,  0])"
      ]
     },
     "execution_count": 4,
     "metadata": {},
     "output_type": "execute_result"
    }
   ],
   "source": [
    "# subtraction \n",
    "u - v"
   ]
  },
  {
   "cell_type": "code",
   "execution_count": 5,
   "id": "e2558542-7456-4689-97d4-826981b6cbd5",
   "metadata": {
    "tags": []
   },
   "outputs": [
    {
     "data": {
      "text/plain": [
       "array([ 6,  8, 16, 12])"
      ]
     },
     "execution_count": 5,
     "metadata": {},
     "output_type": "execute_result"
    }
   ],
   "source": [
    "# scalar multiplication \n",
    "2 * v"
   ]
  },
  {
   "cell_type": "code",
   "execution_count": 6,
   "id": "2e79f570-5c9c-444a-ab0a-917369e36837",
   "metadata": {
    "tags": []
   },
   "outputs": [
    {
     "data": {
      "text/plain": [
       "array([ 6, 28, 40, 36])"
      ]
     },
     "execution_count": 6,
     "metadata": {},
     "output_type": "execute_result"
    }
   ],
   "source": [
    "u * v"
   ]
  },
  {
   "cell_type": "markdown",
   "id": "34029d98-a4ed-4553-b635-3e73cf5ec78a",
   "metadata": {},
   "source": [
    "### Dot product\n",
    "\n",
    "When you're dealing with a row vector $ \\mathbf{A} $ and a column vector $\\mathbf{B}$, the dot product can also be represented using matrix multiplication. In this context, $\\mathbf{A}$ is often written with a transpose superscript to indicate that it's a row vector:\n",
    "\n",
    "$$\n",
    "\\mathbf{A}^\\top \\mathbf{B} = a_1 \\cdot b_1 + a_2 \\cdot b_2 + \\ldots + a_n \\cdot b_n = \\sum_{i=1}^{n} a_i \\cdot b_i\n",
    "$$\n",
    "\n",
    "The superscript $\\top$ indicates the transpose of $\\mathbf{A}$, emphasizing that you're performing a row-by-column multiplication."
   ]
  },
  {
   "cell_type": "code",
   "execution_count": 23,
   "id": "d7f1e523-bba9-4d44-b5d5-7e198884eb57",
   "metadata": {
    "tags": []
   },
   "outputs": [],
   "source": [
    "u = np.array([2, 4, 5, 6])\n",
    "v = np.array([1, 0, 0, 2])"
   ]
  },
  {
   "cell_type": "code",
   "execution_count": 24,
   "id": "8dde167b-5976-411d-ab65-70da601c58cf",
   "metadata": {
    "tags": []
   },
   "outputs": [],
   "source": [
    "def vector_vector_multiplication(u, v):\n",
    "    assert u.shape[0] == v.shape[0]\n",
    "    \n",
    "    n = u.shape[0]\n",
    "    \n",
    "    result = 0.0\n",
    "\n",
    "    for i in range(n):\n",
    "        result += (u[i] * v[i])\n",
    "    \n",
    "    return result"
   ]
  },
  {
   "cell_type": "code",
   "execution_count": 25,
   "id": "21682b5e-a8b5-4f07-acd7-569960c19286",
   "metadata": {
    "tags": []
   },
   "outputs": [
    {
     "data": {
      "text/plain": [
       "14.0"
      ]
     },
     "execution_count": 25,
     "metadata": {},
     "output_type": "execute_result"
    }
   ],
   "source": [
    "vector_vector_multiplication(u, v)"
   ]
  },
  {
   "cell_type": "code",
   "execution_count": 27,
   "id": "ef67ae4d-4dd2-47a3-98d1-0ff2a984ceed",
   "metadata": {
    "tags": []
   },
   "outputs": [
    {
     "data": {
      "text/plain": [
       "14"
      ]
     },
     "execution_count": 27,
     "metadata": {},
     "output_type": "execute_result"
    }
   ],
   "source": [
    "u.dot(v)"
   ]
  },
  {
   "cell_type": "markdown",
   "id": "996c7b38-3463-4469-ad2f-dd91a0123c0b",
   "metadata": {},
   "source": [
    "### Matrix-Vector Multiplication\n",
    "\n",
    "Matrix multiplication involves summing up the products of the respective elements in the rows of the first matrix and the columns of the second matrix. Let $ \\mathbf{A} $ be an $ m \\times n $ matrix and $ \\mathbf{B} $ be an $ n \\times p $ matrix. The resulting $ m \\times p $ matrix $ \\mathbf{C} $ is given by:\n",
    "\n",
    "$$\n",
    "\\mathbf{C}_{ij} = \\sum_{k=1}^{n} \\mathbf{A}_{ik} \\cdot \\mathbf{B}_{kj}\n",
    "$$\n",
    "\n",
    "Here, $ \\mathbf{C}_{ij} $ is the element in the $ i^{th} $ row and $ j^{th} $ column of $ \\mathbf{C} $. $ \\mathbf{A}_{ik} $ is the element in the $ i^{th} $ row and $ k^{th} $ column of $ \\mathbf{A} $, and $ \\mathbf{B}_{kj} $ is the element in the $ k^{th} $ row and $ j^{th} $ column of $ \\mathbf{B} $.\n",
    "\n",
    "The sum runs over $ k $, ranging from 1 to $ n $, which is the common dimension between $ \\mathbf{A} $ and $ \\mathbf{B} $."
   ]
  },
  {
   "cell_type": "code",
   "execution_count": 28,
   "id": "f9a006eb-5d3f-4d7c-ae3e-3ac6f27f1330",
   "metadata": {
    "tags": []
   },
   "outputs": [],
   "source": [
    "U = np.array([\n",
    "    [2, 4, 5, 6],\n",
    "    [1, 2, 1, 2],\n",
    "    [3, 1, 2, 1],\n",
    "])"
   ]
  },
  {
   "cell_type": "code",
   "execution_count": 29,
   "id": "a7a0483c-dc0c-4849-8aad-c8b96474a9d8",
   "metadata": {
    "tags": []
   },
   "outputs": [
    {
     "data": {
      "text/plain": [
       "(3, 4)"
      ]
     },
     "execution_count": 29,
     "metadata": {},
     "output_type": "execute_result"
    }
   ],
   "source": [
    "U.shape"
   ]
  },
  {
   "cell_type": "code",
   "execution_count": 30,
   "id": "9896aff3-397e-492c-9e8c-5ff28b1a3c38",
   "metadata": {
    "tags": []
   },
   "outputs": [],
   "source": [
    "def matrix_vector_multiplication(U, v):\n",
    "    assert U.shape[1] == v.shape[0]\n",
    "    \n",
    "    num_rows = U.shape[0]\n",
    "    \n",
    "    result = np.zeros(num_rows)\n",
    "    \n",
    "    for i in range(num_rows):\n",
    "        result[i] = vector_vector_multiplication(U[i], v)\n",
    "    \n",
    "    return result"
   ]
  },
  {
   "cell_type": "code",
   "execution_count": 31,
   "id": "5451a5b2-44e9-49ab-b70a-3cf481b86c9c",
   "metadata": {
    "tags": []
   },
   "outputs": [
    {
     "data": {
      "text/plain": [
       "array([14.,  5.,  5.])"
      ]
     },
     "execution_count": 31,
     "metadata": {},
     "output_type": "execute_result"
    }
   ],
   "source": [
    "matrix_vector_multiplication(U, v)"
   ]
  },
  {
   "cell_type": "code",
   "execution_count": 32,
   "id": "17ebd548-1e6c-47bc-bf23-d2ea6689b179",
   "metadata": {
    "tags": []
   },
   "outputs": [
    {
     "data": {
      "text/plain": [
       "array([14,  5,  5])"
      ]
     },
     "execution_count": 32,
     "metadata": {},
     "output_type": "execute_result"
    }
   ],
   "source": [
    "U.dot(v)"
   ]
  },
  {
   "cell_type": "markdown",
   "id": "ab80e785-1241-42e8-bf5c-50825985f0e3",
   "metadata": {},
   "source": [
    "### Matrix-Matrix multiplication\n",
    "\n",
    "Canbe though of as multiple Matrix-Vector multiplications.\n",
    "\n",
    "$$\n",
    "\\mathbf{C}_{ij} = \\sum_{k=1}^{n} \\mathbf{A}_{ik} \\cdot \\mathbf{B}_{kj}\n",
    "$$"
   ]
  },
  {
   "cell_type": "code",
   "execution_count": 42,
   "id": "c9af7f19-feed-4b26-ae81-9425dfe6dd85",
   "metadata": {
    "tags": []
   },
   "outputs": [
    {
     "data": {
      "text/plain": [
       "array([[1. , 1. , 2. ],\n",
       "       [0. , 0.5, 1. ],\n",
       "       [0. , 2. , 1. ],\n",
       "       [2. , 1. , 0. ]])"
      ]
     },
     "execution_count": 42,
     "metadata": {},
     "output_type": "execute_result"
    }
   ],
   "source": [
    "V = np.array([\n",
    "    [1, 1, 2],\n",
    "    [0, 0.5, 1], \n",
    "    [0, 2, 1],\n",
    "    [2, 1, 0],\n",
    "])\n",
    "V"
   ]
  },
  {
   "cell_type": "markdown",
   "id": "edda1255-0482-46de-bb0e-2608e7038f73",
   "metadata": {
    "tags": []
   },
   "source": [
    "def matrix_matrix_multiplication(U, V):\n",
    "    assert U.shape[1] == V.shape[0]\n",
    "    \n",
    "    num_rows = U.shape[0]\n",
    "    num_cols = V.shape[1]\n",
    "    \n",
    "    result = np.zeros((num_rows, num_cols))\n",
    "    \n",
    "    for i in range(num_cols):\n",
    "        vi = V[:, i]\n",
    "        Uvi = matrix_vector_multiplication(U, vi)\n",
    "        result[:, i] = Uvi\n",
    "    \n",
    "    return result"
   ]
  },
  {
   "cell_type": "code",
   "execution_count": 36,
   "id": "81e25d6f-ebd1-4e02-8815-7a1db9bdb066",
   "metadata": {
    "tags": []
   },
   "outputs": [
    {
     "data": {
      "text/plain": [
       "array([[14. , 20. , 13. ],\n",
       "       [ 5. ,  6. ,  5. ],\n",
       "       [ 5. ,  8.5,  9. ]])"
      ]
     },
     "execution_count": 36,
     "metadata": {},
     "output_type": "execute_result"
    }
   ],
   "source": [
    "matrix_matrix_multiplication(U, V)"
   ]
  },
  {
   "cell_type": "code",
   "execution_count": 37,
   "id": "33a7609a-db10-424a-823d-661ef28ba9b7",
   "metadata": {
    "tags": []
   },
   "outputs": [
    {
     "data": {
      "text/plain": [
       "array([[14. , 20. , 13. ],\n",
       "       [ 5. ,  6. ,  5. ],\n",
       "       [ 5. ,  8.5,  9. ]])"
      ]
     },
     "execution_count": 37,
     "metadata": {},
     "output_type": "execute_result"
    }
   ],
   "source": [
    "U.dot(V)"
   ]
  },
  {
   "cell_type": "markdown",
   "id": "8001b568-af65-4ce5-96dc-786dba1577c9",
   "metadata": {},
   "source": [
    "### Identity Matrix)"
   ]
  },
  {
   "cell_type": "code",
   "execution_count": 39,
   "id": "ccc99453-ead2-4e67-9018-fc5046120210",
   "metadata": {
    "tags": []
   },
   "outputs": [],
   "source": [
    "I = np.eye(3)"
   ]
  },
  {
   "cell_type": "code",
   "execution_count": 41,
   "id": "8862d20c-5f0d-409e-ad78-98ce86f67d3c",
   "metadata": {
    "tags": []
   },
   "outputs": [
    {
     "data": {
      "text/plain": [
       "array([[1. , 1. , 2. ],\n",
       "       [0. , 0.5, 1. ],\n",
       "       [0. , 2. , 1. ],\n",
       "       [2. , 1. , 0. ]])"
      ]
     },
     "execution_count": 41,
     "metadata": {},
     "output_type": "execute_result"
    }
   ],
   "source": [
    "V"
   ]
  },
  {
   "cell_type": "code",
   "execution_count": 40,
   "id": "ee9d0344-a634-471d-9347-20fbe64a5f91",
   "metadata": {
    "tags": []
   },
   "outputs": [
    {
     "data": {
      "text/plain": [
       "array([[1. , 1. , 2. ],\n",
       "       [0. , 0.5, 1. ],\n",
       "       [0. , 2. , 1. ],\n",
       "       [2. , 1. , 0. ]])"
      ]
     },
     "execution_count": 40,
     "metadata": {},
     "output_type": "execute_result"
    }
   ],
   "source": [
    "V.dot(I)"
   ]
  },
  {
   "cell_type": "markdown",
   "id": "4c0fd6f1-c31d-432d-9b63-cba357176fe7",
   "metadata": {},
   "source": [
    "Is useful for explaining matrix inverse.\n",
    "\n",
    "NOTE: **Only square matrices have inverse!**"
   ]
  },
  {
   "cell_type": "code",
   "execution_count": 45,
   "id": "de9b1561-b111-41bb-8589-f4e169ce2c45",
   "metadata": {
    "tags": []
   },
   "outputs": [
    {
     "data": {
      "text/plain": [
       "array([[1. , 1. , 2. ],\n",
       "       [0. , 0.5, 1. ],\n",
       "       [0. , 2. , 1. ]])"
      ]
     },
     "execution_count": 45,
     "metadata": {},
     "output_type": "execute_result"
    }
   ],
   "source": [
    "Vs = V[[0, 1, 2]]\n",
    "Vs"
   ]
  },
  {
   "cell_type": "code",
   "execution_count": 47,
   "id": "90ca41ef-3b6c-4226-9b44-643838714b88",
   "metadata": {
    "tags": []
   },
   "outputs": [
    {
     "data": {
      "text/plain": [
       "array([[ 1.        , -2.        ,  0.        ],\n",
       "       [ 0.        , -0.66666667,  0.66666667],\n",
       "       [ 0.        ,  1.33333333, -0.33333333]])"
      ]
     },
     "execution_count": 47,
     "metadata": {},
     "output_type": "execute_result"
    }
   ],
   "source": [
    "Vs_inv = np.linalg.inv(Vs)\n",
    "Vs_inv"
   ]
  },
  {
   "cell_type": "code",
   "execution_count": 48,
   "id": "967b6c05-8796-4cab-a700-a13440541947",
   "metadata": {
    "tags": []
   },
   "outputs": [
    {
     "data": {
      "text/plain": [
       "array([[1., 0., 0.],\n",
       "       [0., 1., 0.],\n",
       "       [0., 0., 1.]])"
      ]
     },
     "execution_count": 48,
     "metadata": {},
     "output_type": "execute_result"
    }
   ],
   "source": [
    "Vs_inv.dot(Vs)"
   ]
  },
  {
   "cell_type": "markdown",
   "id": "885d2cac-2734-4ebd-9d6b-4b05c0f003a7",
   "metadata": {},
   "source": [
    "Inversion will be useful for linear regression."
   ]
  }
 ],
 "metadata": {
  "kernelspec": {
   "display_name": "Python 3 (ipykernel)",
   "language": "python",
   "name": "python3"
  },
  "language_info": {
   "codemirror_mode": {
    "name": "ipython",
    "version": 3
   },
   "file_extension": ".py",
   "mimetype": "text/x-python",
   "name": "python",
   "nbconvert_exporter": "python",
   "pygments_lexer": "ipython3",
   "version": "3.9.18"
  }
 },
 "nbformat": 4,
 "nbformat_minor": 5
}
